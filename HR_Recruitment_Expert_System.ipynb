{
  "nbformat": 4,
  "nbformat_minor": 0,
  "metadata": {
    "colab": {
      "provenance": [],
      "authorship_tag": "ABX9TyMg/4zJkzEk+A5wRv6RVuhO",
      "include_colab_link": true
    },
    "kernelspec": {
      "name": "python3",
      "display_name": "Python 3"
    },
    "language_info": {
      "name": "python"
    }
  },
  "cells": [
    {
      "cell_type": "markdown",
      "metadata": {
        "id": "view-in-github",
        "colab_type": "text"
      },
      "source": [
        "<a href=\"https://colab.research.google.com/github/sadmam-sobhan-76/HR-Recruitment-Expert-System/blob/main/HR_Recruitment_Expert_System.ipynb\" target=\"_parent\"><img src=\"https://colab.research.google.com/assets/colab-badge.svg\" alt=\"Open In Colab\"/></a>"
      ]
    },
    {
      "cell_type": "code",
      "source": [
        "!pip install pytesseract\n",
        "!sudo apt-get install tesseract-ocr\n",
        "!pip install pillow"
      ],
      "metadata": {
        "id": "QMJHtnS-r_YN"
      },
      "execution_count": null,
      "outputs": []
    },
    {
      "cell_type": "code",
      "source": [
        "from google.colab import files\n",
        "\n",
        "# Prompt the user to upload PNG images\n",
        "uploaded = files.upload()\n",
        "\n",
        "# Print the uploaded filenames\n",
        "for filename in uploaded.keys():\n",
        "    print(f\"Uploaded file: {filename}\")\n"
      ],
      "metadata": {
        "id": "_lq_Pv6Itbur"
      },
      "execution_count": null,
      "outputs": []
    },
    {
      "cell_type": "code",
      "source": [
        "import pytesseract\n",
        "from PIL import Image\n",
        "\n",
        "def extract_text_from_image(image_path):\n",
        "    # Open the image file\n",
        "    img = Image.open(image_path)\n",
        "\n",
        "    # Use pytesseract to extract text from the image\n",
        "    extracted_text = pytesseract.image_to_string(img)\n",
        "\n",
        "    return extracted_text"
      ],
      "metadata": {
        "id": "a6VS7w2DuKTW"
      },
      "execution_count": 26,
      "outputs": []
    },
    {
      "cell_type": "code",
      "source": [
        "import spacy\n",
        "\n",
        "nlp = spacy.load(\"en_core_web_sm\")\n",
        "\n",
        "def process_extracted_text(text):\n",
        "    doc = nlp(text)\n",
        "\n",
        "    # Extract Name using named entity recognition (NER)\n",
        "    name = None\n",
        "    for ent in doc.ents:\n",
        "        if ent.label_ == \"PERSON\":\n",
        "            name = ent.text\n",
        "            break\n",
        "\n",
        "    # Extract Skills using noun chunks\n",
        "    skills = [chunk.text for chunk in doc.noun_chunks if \"skill\" in chunk.text.lower()]\n",
        "\n",
        "    # Extract Work Experience using keyword matching\n",
        "    work_experience = None\n",
        "    for sent in doc.sents:\n",
        "        if \"work experience\" in sent.text.lower():\n",
        "            work_experience = sent.text\n",
        "            break\n",
        "\n",
        "    return name, skills, work_experience"
      ],
      "metadata": {
        "id": "1unwkhnzuQA3"
      },
      "execution_count": 27,
      "outputs": []
    },
    {
      "cell_type": "code",
      "source": [
        "# Process each uploaded CV file\n",
        "for filename in uploaded.keys():\n",
        "    extracted_text = extract_text_from_image(filename)\n",
        "    name, skills, work_experience = process_extracted_text(extracted_text)\n",
        "\n",
        "    # Display extracted information\n",
        "    print(f\"CV: {filename}\")\n",
        "    print(f\"Name: {name}\")\n",
        "    print(f\"Skills: {', '.join(skills)}\")\n",
        "    print(f\"Work Experience: {work_experience}\")\n",
        "    print()\n"
      ],
      "metadata": {
        "colab": {
          "base_uri": "https://localhost:8080/"
        },
        "id": "zfQ6npYRuYZe",
        "outputId": "8f4da371-6a21-4842-8140-84edd0e7740b"
      },
      "execution_count": 28,
      "outputs": [
        {
          "output_type": "stream",
          "name": "stdout",
          "text": [
            "CV: 1001 (1).png\n",
            "Name: yOutemail@gmailcom\n",
            "Skills: proven marketing skills, my existing skill\n",
            "Work Experience: None\n",
            "\n",
            "CV: 1002 (1).png\n",
            "Name: Green Award\n",
            "Skills: MI\n",
            "\n",
            "KEY SKILLS\n",
            "Work Experience: None\n",
            "\n",
            "CV: 1003 (1).png\n",
            "Name: None\n",
            "Skills: \n",
            "Work Experience: None\n",
            "\n",
            "CV: 1004 (1).png\n",
            "Name: Nicholas Michael\n",
            "\n",
            " \n",
            "\n",
            " \n",
            "\f\n",
            "Skills: \n",
            "Work Experience: None\n",
            "\n",
            "CV: 1005 (1).png\n",
            "Name: Megi Pramesti\n",
            "Skills: skills, Skills\n",
            "Work Experience: Work experience\n",
            "\n",
            "Marketing\n",
            "\n",
            "ANZ Bank Indonesia\n",
            "\n",
            "05/2013 - 10/2013 GQ JAKARTA, INDONESIA\n",
            "\n",
            "¢ Build an efficient and effective team.\n",
            "\n",
            "\n",
            "\n",
            "CV: 1006 (1).png\n",
            "Name: Martin Bashir\n",
            "Skills: my\n",
            "skills, First Class Honours\n",
            "\n",
            " \n",
            "\n",
            " \n",
            "\n",
            "Skills\n",
            "Digital marketing, Negotiation skills, Analytical skills\n",
            "Work Experience: None\n",
            "\n",
            "CV: 1007 (1).png\n",
            "Name: Lea Valberg\n",
            "Skills: \n",
            "Work Experience: None\n",
            "\n",
            "CV: 1008 (1).png\n",
            "Name: None\n",
            "Skills: \n",
            "Work Experience: None\n",
            "\n",
            "CV: 1009 (1).png\n",
            "Name: + Helped\n",
            "Skills: market research skills, excellent organizational skills\n",
            "Work Experience: None\n",
            "\n",
            "CV: 1010 (1).png\n",
            "Name: Eleanor Avila\n",
            "Skills: MA\n",
            "\n",
            "SKILLS\n",
            "\n",
            " \n",
            "\n",
            "Creative Digital Marketing Expert\n",
            "Work Experience: None\n",
            "\n"
          ]
        }
      ]
    }
  ]
}